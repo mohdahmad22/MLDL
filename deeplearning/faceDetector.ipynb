{
 "cells": [
  {
   "cell_type": "code",
   "execution_count": 1,
   "metadata": {},
   "outputs": [],
   "source": [
    "import cv2"
   ]
  },
  {
   "cell_type": "code",
   "execution_count": 47,
   "metadata": {},
   "outputs": [
    {
     "data": {
      "text/plain": [
       "3"
      ]
     },
     "execution_count": 47,
     "metadata": {},
     "output_type": "execute_result"
    }
   ],
   "source": [
    "im=cv2.imread(\"f:/ahmad.jpg\")\n",
    "im.ndim"
   ]
  },
  {
   "cell_type": "code",
   "execution_count": 83,
   "metadata": {},
   "outputs": [
    {
     "name": "stdout",
     "output_type": "stream",
     "text": [
      "(839, 529, 3)\n",
      "(758, 520, 3)\n",
      "(773, 593, 3)\n",
      "(773, 593, 3)\n"
     ]
    },
    {
     "ename": "error",
     "evalue": "OpenCV(4.0.0) C:\\projects\\opencv-python\\opencv\\modules\\imgproc\\src\\color.cpp:181: error: (-215:Assertion failed) !_src.empty() in function 'cv::cvtColor'\n",
     "output_type": "error",
     "traceback": [
      "\u001b[1;31m---------------------------------------------------------------------------\u001b[0m",
      "\u001b[1;31merror\u001b[0m                                     Traceback (most recent call last)",
      "\u001b[1;32m<ipython-input-83-fdc7675161e9>\u001b[0m in \u001b[0;36m<module>\u001b[1;34m\u001b[0m\n\u001b[0;32m      4\u001b[0m     \u001b[0mimg\u001b[0m\u001b[1;33m=\u001b[0m\u001b[0mcv2\u001b[0m\u001b[1;33m.\u001b[0m\u001b[0mimread\u001b[0m\u001b[1;33m(\u001b[0m\u001b[0mpath\u001b[0m\u001b[1;33m)\u001b[0m\u001b[1;33m\u001b[0m\u001b[1;33m\u001b[0m\u001b[0m\n\u001b[0;32m      5\u001b[0m     \u001b[0mface_cascade\u001b[0m\u001b[1;33m=\u001b[0m\u001b[0mcv2\u001b[0m\u001b[1;33m.\u001b[0m\u001b[0mCascadeClassifier\u001b[0m\u001b[1;33m(\u001b[0m\u001b[1;34m\"f://cascade.xml\"\u001b[0m\u001b[1;33m)\u001b[0m\u001b[1;33m\u001b[0m\u001b[1;33m\u001b[0m\u001b[0m\n\u001b[1;32m----> 6\u001b[1;33m     \u001b[0mgray_img\u001b[0m\u001b[1;33m=\u001b[0m\u001b[0mcv2\u001b[0m\u001b[1;33m.\u001b[0m\u001b[0mcvtColor\u001b[0m\u001b[1;33m(\u001b[0m\u001b[0mimg\u001b[0m\u001b[1;33m,\u001b[0m\u001b[0mcv2\u001b[0m\u001b[1;33m.\u001b[0m\u001b[0mCOLOR_BGRA2GRAY\u001b[0m\u001b[1;33m)\u001b[0m\u001b[1;33m\u001b[0m\u001b[1;33m\u001b[0m\u001b[0m\n\u001b[0m\u001b[0;32m      7\u001b[0m     \u001b[0mfaces\u001b[0m\u001b[1;33m=\u001b[0m\u001b[0mface_cascade\u001b[0m\u001b[1;33m.\u001b[0m\u001b[0mdetectMultiScale\u001b[0m\u001b[1;33m(\u001b[0m\u001b[0mgray_img\u001b[0m\u001b[1;33m,\u001b[0m\u001b[0mscaleFactor\u001b[0m\u001b[1;33m=\u001b[0m\u001b[1;36m1.05\u001b[0m\u001b[1;33m,\u001b[0m\u001b[0mminNeighbors\u001b[0m\u001b[1;33m=\u001b[0m\u001b[1;36m5\u001b[0m\u001b[1;33m)\u001b[0m\u001b[1;33m\u001b[0m\u001b[1;33m\u001b[0m\u001b[0m\n\u001b[0;32m      8\u001b[0m     \u001b[1;32mfor\u001b[0m \u001b[0mx\u001b[0m\u001b[1;33m,\u001b[0m\u001b[0my\u001b[0m\u001b[1;33m,\u001b[0m\u001b[0mw\u001b[0m\u001b[1;33m,\u001b[0m\u001b[0mh\u001b[0m \u001b[1;32min\u001b[0m \u001b[0mfaces\u001b[0m\u001b[1;33m:\u001b[0m\u001b[1;33m\u001b[0m\u001b[1;33m\u001b[0m\u001b[0m\n",
      "\u001b[1;31merror\u001b[0m: OpenCV(4.0.0) C:\\projects\\opencv-python\\opencv\\modules\\imgproc\\src\\color.cpp:181: error: (-215:Assertion failed) !_src.empty() in function 'cv::cvtColor'\n"
     ]
    }
   ],
   "source": [
    "\n",
    "for im in data:\n",
    "    path=os.path.join('f:/Train',im)\n",
    "    img=cv2.imread(path)\n",
    "    face_cascade=cv2.CascadeClassifier(\"f://cascade.xml\")\n",
    "    gray_img=cv2.cvtColor(img,cv2.COLOR_BGRA2GRAY)\n",
    "    faces=face_cascade.detectMultiScale(gray_img,scaleFactor=1.05,minNeighbors=5)\n",
    "    for x,y,w,h in faces:\n",
    "        img=cv2.rectangle(img,(x,y),(x+w,y+h),(0,255,0),4)\n",
    "        print(img.shape)\n",
    "    resized=cv2.resize(img,(int(img.shape[1]/2),int(img.shape[0]/2)))\n",
    "    cv2.imshow(\"gray\",resized)\n",
    "    cv2.waitKey(2000)\n",
    "    cv2.destroyAllWindows()\n"
   ]
  },
  {
   "cell_type": "code",
   "execution_count": 81,
   "metadata": {},
   "outputs": [
    {
     "name": "stdout",
     "output_type": "stream",
     "text": [
      "542\n",
      "531\n",
      "419\n",
      "685\n"
     ]
    }
   ],
   "source": [
    "for x,y,w,h in faces:\n",
    "    print(x+w)\n",
    "    print(y+h)\n",
    "    #print(w)\n",
    "    #print(h)"
   ]
  },
  {
   "cell_type": "code",
   "execution_count": 68,
   "metadata": {},
   "outputs": [
    {
     "data": {
      "text/plain": [
       "array([[477, 466,  65,  65],\n",
       "       [242, 508, 177, 177]], dtype=int32)"
      ]
     },
     "execution_count": 68,
     "metadata": {},
     "output_type": "execute_result"
    }
   ],
   "source": [
    "faces"
   ]
  },
  {
   "cell_type": "code",
   "execution_count": 21,
   "metadata": {},
   "outputs": [
    {
     "data": {
      "text/plain": [
       "-1"
      ]
     },
     "execution_count": 21,
     "metadata": {},
     "output_type": "execute_result"
    }
   ],
   "source": []
  },
  {
   "cell_type": "code",
   "execution_count": 28,
   "metadata": {},
   "outputs": [],
   "source": [
    "import os\n",
    "import numpy as np"
   ]
  },
  {
   "cell_type": "code",
   "execution_count": 24,
   "metadata": {},
   "outputs": [],
   "source": [
    "data=os.listdir('f:/images')"
   ]
  },
  {
   "cell_type": "code",
   "execution_count": 52,
   "metadata": {},
   "outputs": [],
   "source": [
    "tr_data=[]\n",
    "    tr_data.append([np.array(img_data)])\n",
    "    \n",
    "    \n",
    "    "
   ]
  },
  {
   "cell_type": "code",
   "execution_count": 53,
   "metadata": {},
   "outputs": [
    {
     "name": "stdout",
     "output_type": "stream",
     "text": [
      "[[[  0 113 115]\n",
      "  [  0 111 113]\n",
      "  [ 14 108 113]\n",
      "  ...\n",
      "  [206 184 186]\n",
      "  [208 184 186]\n",
      "  [208 184 186]]\n",
      "\n",
      " [[  0 110 113]\n",
      "  [  1 110 112]\n",
      "  [ 16 108 113]\n",
      "  ...\n",
      "  [206 184 186]\n",
      "  [208 184 186]\n",
      "  [208 184 186]]\n",
      "\n",
      " [[  0 107 111]\n",
      "  [  2 107 110]\n",
      "  [ 18 106 112]\n",
      "  ...\n",
      "  [206 183 187]\n",
      "  [208 183 187]\n",
      "  [207 182 186]]\n",
      "\n",
      " ...\n",
      "\n",
      " [[ 92  89  84]\n",
      "  [ 94  91  86]\n",
      "  [ 96  93  88]\n",
      "  ...\n",
      "  [ 35  57  68]\n",
      "  [ 28  55  65]\n",
      "  [ 24  55  64]]\n",
      "\n",
      " [[ 91  88  83]\n",
      "  [ 93  90  85]\n",
      "  [ 96  93  88]\n",
      "  ...\n",
      "  [ 32  56  68]\n",
      "  [ 28  56  67]\n",
      "  [ 25  57  68]]\n",
      "\n",
      " [[ 90  87  82]\n",
      "  [ 92  89  84]\n",
      "  [ 96  93  88]\n",
      "  ...\n",
      "  [ 34  58  70]\n",
      "  [ 30  60  71]\n",
      "  [ 30  62  73]]]\n"
     ]
    }
   ],
   "source": []
  },
  {
   "cell_type": "code",
   "execution_count": null,
   "metadata": {},
   "outputs": [],
   "source": []
  }
 ],
 "metadata": {
  "kernelspec": {
   "display_name": "Python 3",
   "language": "python",
   "name": "python3"
  },
  "language_info": {
   "codemirror_mode": {
    "name": "ipython",
    "version": 3
   },
   "file_extension": ".py",
   "mimetype": "text/x-python",
   "name": "python",
   "nbconvert_exporter": "python",
   "pygments_lexer": "ipython3",
   "version": "3.6.7"
  }
 },
 "nbformat": 4,
 "nbformat_minor": 2
}
