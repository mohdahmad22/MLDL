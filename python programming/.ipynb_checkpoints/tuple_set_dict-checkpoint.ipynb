{
 "cells": [
  {
   "cell_type": "code",
   "execution_count": null,
   "metadata": {},
   "outputs": [],
   "source": [
    "#tuple\n",
    "\"\"\"\n",
    "*difference between tuple,set and dictionary\n",
    "-List-\n",
    "Used for simple data storage\n",
    "mutable\n",
    "ordered\n",
    "indexed\n",
    "[]\n",
    "heterogeneus\n",
    "-Tuple-\n",
    "used for data that need to be changed during runtime\n",
    "unmutable\n",
    "ordered\n",
    "indexed\n",
    "()\n",
    "heter\n",
    "-set-\n",
    "used for handling dataset union intersection etc\n",
    "mutable\n",
    "unindexed\n",
    "unordered\n",
    "values are unique\n",
    "-Dictionary-\n",
    "used for storing complex values in a structured tree mannner\n",
    "mutable\n",
    "unordered\n",
    "unindexed\n",
    "\"\"\""
   ]
  }
 ],
 "metadata": {
  "kernelspec": {
   "display_name": "Python 3",
   "language": "python",
   "name": "python3"
  },
  "language_info": {
   "codemirror_mode": {
    "name": "ipython",
    "version": 3
   },
   "file_extension": ".py",
   "mimetype": "text/x-python",
   "name": "python",
   "nbconvert_exporter": "python",
   "pygments_lexer": "ipython3",
   "version": "3.7.0"
  }
 },
 "nbformat": 4,
 "nbformat_minor": 2
}
